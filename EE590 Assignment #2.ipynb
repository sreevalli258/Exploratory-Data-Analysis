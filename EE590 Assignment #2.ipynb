{
 "cells": [
  {
   "cell_type": "code",
   "execution_count": 1,
   "id": "6a52d2d2",
   "metadata": {},
   "outputs": [
    {
     "name": "stdout",
     "output_type": "stream",
     "text": [
      "Requirement already satisfied: numpy in c:\\users\\sreev\\anaconda3\\lib\\site-packages (1.24.3)\n"
     ]
    }
   ],
   "source": [
    "!pip install numpy"
   ]
  },
  {
   "cell_type": "code",
   "execution_count": 2,
   "id": "3e566616",
   "metadata": {
    "scrolled": true
   },
   "outputs": [
    {
     "name": "stdout",
     "output_type": "stream",
     "text": [
      "Requirement already satisfied: pandas in c:\\users\\sreev\\anaconda3\\lib\\site-packages (1.5.3)\n",
      "Requirement already satisfied: numpy in c:\\users\\sreev\\anaconda3\\lib\\site-packages (1.24.3)\n",
      "Requirement already satisfied: matplotlib in c:\\users\\sreev\\anaconda3\\lib\\site-packages (3.7.1)\n",
      "Requirement already satisfied: python-dateutil>=2.8.1 in c:\\users\\sreev\\anaconda3\\lib\\site-packages (from pandas) (2.8.2)\n",
      "Requirement already satisfied: pytz>=2020.1 in c:\\users\\sreev\\anaconda3\\lib\\site-packages (from pandas) (2022.7)\n",
      "Requirement already satisfied: contourpy>=1.0.1 in c:\\users\\sreev\\anaconda3\\lib\\site-packages (from matplotlib) (1.0.5)\n",
      "Requirement already satisfied: cycler>=0.10 in c:\\users\\sreev\\anaconda3\\lib\\site-packages (from matplotlib) (0.11.0)\n",
      "Requirement already satisfied: fonttools>=4.22.0 in c:\\users\\sreev\\anaconda3\\lib\\site-packages (from matplotlib) (4.25.0)\n",
      "Requirement already satisfied: kiwisolver>=1.0.1 in c:\\users\\sreev\\anaconda3\\lib\\site-packages (from matplotlib) (1.4.4)\n",
      "Requirement already satisfied: packaging>=20.0 in c:\\users\\sreev\\anaconda3\\lib\\site-packages (from matplotlib) (23.0)\n",
      "Requirement already satisfied: pillow>=6.2.0 in c:\\users\\sreev\\anaconda3\\lib\\site-packages (from matplotlib) (9.4.0)\n",
      "Requirement already satisfied: pyparsing>=2.3.1 in c:\\users\\sreev\\anaconda3\\lib\\site-packages (from matplotlib) (3.0.9)\n",
      "Requirement already satisfied: six>=1.5 in c:\\users\\sreev\\anaconda3\\lib\\site-packages (from python-dateutil>=2.8.1->pandas) (1.16.0)\n",
      "Note: you may need to restart the kernel to use updated packages.\n"
     ]
    }
   ],
   "source": [
    "pip install pandas numpy matplotlib\n"
   ]
  },
  {
   "cell_type": "code",
   "execution_count": 3,
   "id": "089ec3c1",
   "metadata": {},
   "outputs": [],
   "source": [
    "import pandas as pd\n",
    "import numpy as np\n",
    "import matplotlib.pyplot as plt"
   ]
  },
  {
   "cell_type": "code",
   "execution_count": 4,
   "id": "d3656057",
   "metadata": {},
   "outputs": [],
   "source": [
    "import pandas as pd\n"
   ]
  },
  {
   "cell_type": "code",
   "execution_count": 5,
   "id": "4935b5ad",
   "metadata": {},
   "outputs": [],
   "source": [
    "# Read the data with updated file paths\n",
    "ratings_cols = ['user_id', 'movie_id', 'rating', 'timestamp']\n",
    "df_ratings = pd.read_csv('dataset/u.data', sep='\\t', names=ratings_cols)\n",
    "movies_cols = ['movie_id', 'title', 'release_date', 'video_release_date', 'imdb_url']\n",
    "df_movies = pd.read_csv('dataset/u.item', sep='|', encoding='latin-1', usecols=range(5), names=movies_cols)\n",
    "user_columns = ['user_id', 'age', 'gender', 'occupation', 'zip_code']\n",
    "df_users = pd.read_csv('dataset/u.user', sep='|', names=user_columns)\n"
   ]
  },
  {
   "cell_type": "code",
   "execution_count": 7,
   "id": "94ef6f4f",
   "metadata": {},
   "outputs": [
    {
     "name": "stdout",
     "output_type": "stream",
     "text": [
      "Ratings DataFrame:\n",
      "<class 'pandas.core.frame.DataFrame'>\n",
      "RangeIndex: 100000 entries, 0 to 99999\n",
      "Data columns (total 4 columns):\n",
      " #   Column     Non-Null Count   Dtype\n",
      "---  ------     --------------   -----\n",
      " 0   user_id    100000 non-null  int64\n",
      " 1   movie_id   100000 non-null  int64\n",
      " 2   rating     100000 non-null  int64\n",
      " 3   timestamp  100000 non-null  int64\n",
      "dtypes: int64(4)\n",
      "memory usage: 3.1 MB\n",
      "None\n",
      "            user_id       movie_id         rating     timestamp\n",
      "count  100000.00000  100000.000000  100000.000000  1.000000e+05\n",
      "mean      462.48475     425.530130       3.529860  8.835289e+08\n",
      "std       266.61442     330.798356       1.125674  5.343856e+06\n",
      "min         1.00000       1.000000       1.000000  8.747247e+08\n",
      "25%       254.00000     175.000000       3.000000  8.794487e+08\n",
      "50%       447.00000     322.000000       4.000000  8.828269e+08\n",
      "75%       682.00000     631.000000       4.000000  8.882600e+08\n",
      "max       943.00000    1682.000000       5.000000  8.932866e+08\n",
      "\n",
      "Movies DataFrame:\n",
      "<class 'pandas.core.frame.DataFrame'>\n",
      "RangeIndex: 1682 entries, 0 to 1681\n",
      "Data columns (total 5 columns):\n",
      " #   Column              Non-Null Count  Dtype         \n",
      "---  ------              --------------  -----         \n",
      " 0   movie_id            1682 non-null   int64         \n",
      " 1   title               1682 non-null   object        \n",
      " 2   release_date        1681 non-null   datetime64[ns]\n",
      " 3   video_release_date  0 non-null      float64       \n",
      " 4   imdb_url            1679 non-null   object        \n",
      "dtypes: datetime64[ns](1), float64(1), int64(1), object(2)\n",
      "memory usage: 65.8+ KB\n",
      "None\n",
      "          movie_id  video_release_date\n",
      "count  1682.000000                 0.0\n",
      "mean    841.500000                 NaN\n",
      "std     485.695893                 NaN\n",
      "min       1.000000                 NaN\n",
      "25%     421.250000                 NaN\n",
      "50%     841.500000                 NaN\n",
      "75%    1261.750000                 NaN\n",
      "max    1682.000000                 NaN\n",
      "\n",
      "Users DataFrame:\n",
      "<class 'pandas.core.frame.DataFrame'>\n",
      "RangeIndex: 943 entries, 0 to 942\n",
      "Data columns (total 5 columns):\n",
      " #   Column      Non-Null Count  Dtype \n",
      "---  ------      --------------  ----- \n",
      " 0   user_id     943 non-null    int64 \n",
      " 1   age         943 non-null    int64 \n",
      " 2   gender      943 non-null    object\n",
      " 3   occupation  943 non-null    object\n",
      " 4   zip_code    943 non-null    object\n",
      "dtypes: int64(2), object(3)\n",
      "memory usage: 37.0+ KB\n",
      "None\n",
      "          user_id         age\n",
      "count  943.000000  943.000000\n",
      "mean   472.000000   34.051962\n",
      "std    272.364951   12.192740\n",
      "min      1.000000    7.000000\n",
      "25%    236.500000   25.000000\n",
      "50%    472.000000   31.000000\n",
      "75%    707.500000   43.000000\n",
      "max    943.000000   73.000000\n",
      "\n",
      "Ratings DataFrame:\n",
      "   user_id  movie_id  rating  timestamp\n",
      "0      196       242       3  881250949\n",
      "1      186       302       3  891717742\n",
      "2       22       377       1  878887116\n",
      "3      244        51       2  880606923\n",
      "4      166       346       1  886397596\n",
      "\n",
      "Movies DataFrame:\n",
      "   movie_id              title release_date  video_release_date  \\\n",
      "0         1   Toy Story (1995)   1995-01-01                 NaN   \n",
      "1         2   GoldenEye (1995)   1995-01-01                 NaN   \n",
      "2         3  Four Rooms (1995)   1995-01-01                 NaN   \n",
      "3         4  Get Shorty (1995)   1995-01-01                 NaN   \n",
      "4         5     Copycat (1995)   1995-01-01                 NaN   \n",
      "\n",
      "                                            imdb_url  \n",
      "0  http://us.imdb.com/M/title-exact?Toy%20Story%2...  \n",
      "1  http://us.imdb.com/M/title-exact?GoldenEye%20(...  \n",
      "2  http://us.imdb.com/M/title-exact?Four%20Rooms%...  \n",
      "3  http://us.imdb.com/M/title-exact?Get%20Shorty%...  \n",
      "4  http://us.imdb.com/M/title-exact?Copycat%20(1995)  \n",
      "\n",
      "Users DataFrame:\n",
      "   user_id  age gender  occupation zip_code\n",
      "0        1   24      M  technician    85711\n",
      "1        2   53      F       other    94043\n",
      "2        3   23      M      writer    32067\n",
      "3        4   24      M  technician    43537\n",
      "4        5   33      F       other    15213\n",
      "\n",
      "Number of rows in Ratings DataFrame: 100000\n",
      "Number of rows in Movies DataFrame: 1682\n",
      "Number of rows in Users DataFrame: 943\n",
      "\n",
      "Unique Ratings: [3 1 2 4 5]\n",
      "Number of Unique Ratings: 5\n",
      "\n",
      "Number of Unique User IDs: 943\n",
      "This number represents the total number of unique users who have rated movies in the dataset.\n"
     ]
    },
    {
     "data": {
      "image/png": "[encoded data removed]",
      "text/plain": [
       "<Figure size 640x480 with 1 Axes>"
      ]
     },
     "metadata": {},
     "output_type": "display_data"
    },
    {
     "name": "stdout",
     "output_type": "stream",
     "text": [
      "\n",
      "The movie rated the greatest number of times has Movie ID: 50\n",
      "\n",
      "The movie that received the most '5' rating has Movie ID: 50\n"
     ]
    },
    {
     "data": {
      "image/png": "[encoded data removed]",
      "text/plain": [
       "<Figure size 640x480 with 1 Axes>"
      ]
     },
     "metadata": {},
     "output_type": "display_data"
    },
    {
     "name": "stdout",
     "output_type": "stream",
     "text": [
      "\n",
      "The year with the greatest number of movies released is: 1996.0\n"
     ]
    }
   ],
   "source": [
    "\n",
    "\n",
    "# Task 1: Use the info() and describe() methods to get general information about each of the DataFrames.\n",
    "print(\"Ratings DataFrame:\")\n",
    "print(df_ratings.info())\n",
    "print(df_ratings.describe())\n",
    "\n",
    "print(\"\\nMovies DataFrame:\")\n",
    "print(df_movies.info())\n",
    "print(df_movies.describe())\n",
    "\n",
    "print(\"\\nUsers DataFrame:\")\n",
    "print(df_users.info())\n",
    "print(df_users.describe())\n",
    "\n",
    "# Task 2: Use the head() method to show the first few rows of each DataFrame.\n",
    "print(\"\\nRatings DataFrame:\")\n",
    "print(df_ratings.head())\n",
    "\n",
    "print(\"\\nMovies DataFrame:\")\n",
    "print(df_movies.head())\n",
    "\n",
    "print(\"\\nUsers DataFrame:\")\n",
    "print(df_users.head())\n",
    "\n",
    "# Task 3: How many rows of data does each DataFrame have?\n",
    "print(\"\\nNumber of rows in Ratings DataFrame:\", len(df_ratings))\n",
    "print(\"Number of rows in Movies DataFrame:\", len(df_movies))\n",
    "print(\"Number of rows in Users DataFrame:\", len(df_users))\n",
    "\n",
    "# Task 4: Find the unique values and the number of unique values in the ‘rating’ column of the df_ratings.\n",
    "unique_ratings = df_ratings['rating'].unique()\n",
    "num_unique_ratings = df_ratings['rating'].nunique()\n",
    "print(\"\\nUnique Ratings:\", unique_ratings)\n",
    "print(\"Number of Unique Ratings:\", num_unique_ratings)\n",
    "\n",
    "# Task 5: Find the number of unique values in the column 'user_id'. What does this number represent?\n",
    "num_unique_users = df_ratings['user_id'].nunique()\n",
    "print(\"\\nNumber of Unique User IDs:\", num_unique_users)\n",
    "print(\"This number represents the total number of unique users who have rated movies in the dataset.\")\n",
    "\n",
    "# Task 6: Show a histogram of the number of times each of the ratings were used.\n",
    "plt.hist(df_ratings['rating'], bins=[0.5, 1.5, 2.5, 3.5, 4.5, 5.5], edgecolor='k')\n",
    "plt.xlabel('Rating')\n",
    "plt.ylabel('Frequency')\n",
    "plt.title('Distribution of Ratings')\n",
    "plt.show()\n",
    "\n",
    "# Task 7: Which movie was rated the greatest number of times.\n",
    "most_rated_movie = df_ratings['movie_id'].value_counts().idxmax()\n",
    "print(\"\\nThe movie rated the greatest number of times has Movie ID:\", most_rated_movie)\n",
    "\n",
    "# Task 8: Find the id of the movie that received the most '5' rating.\n",
    "most_frequent_5_rating = df_ratings[df_ratings['rating'] == 5]['movie_id'].value_counts().idxmax()\n",
    "print(\"\\nThe movie that received the most '5' rating has Movie ID:\", most_frequent_5_rating)\n",
    "\n",
    "# Task 9: Plot a histogram of the frequency of ratings by user.\n",
    "user_rating_counts = df_ratings['user_id'].value_counts()\n",
    "plt.hist(user_rating_counts, bins=30, edgecolor='k')\n",
    "plt.xlabel('Number of Ratings by User')\n",
    "plt.ylabel('Frequency')\n",
    "plt.title('Distribution of Ratings by User')\n",
    "plt.show()\n",
    "\n",
    "# Task 10: What is the date with the greatest number of movies released?\n",
    "df_movies['release_date'] = pd.to_datetime(df_movies['release_date'], errors='coerce')\n",
    "release_dates = df_movies['release_date'].dt.year\n",
    "most_movies_released_year = release_dates.value_counts().idxmax()\n",
    "print(\"\\nThe year with the greatest number of movies released is:\", most_movies_released_year)\n",
    "\n"
   ]
  },
  {
   "cell_type": "code",
   "execution_count": null,
   "id": "5973c76c",
   "metadata": {},
   "outputs": [],
   "source": []
  }
 ],
 "metadata": {
  "kernelspec": {
   "display_name": "Python 3 (ipykernel)",
   "language": "python",
   "name": "python3"
  },
  "language_info": {
   "codemirror_mode": {
    "name": "ipython",
    "version": 3
   },
   "file_extension": ".py",
   "mimetype": "text/x-python",
   "name": "python",
   "nbconvert_exporter": "python",
   "pygments_lexer": "ipython3",
   "version": "3.11.4"
  }
 },
 "nbformat": 4,
 "nbformat_minor": 5
}
